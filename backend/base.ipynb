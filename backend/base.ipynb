{
 "cells": [
  {
   "cell_type": "code",
   "execution_count": null,
   "metadata": {},
   "outputs": [],
   "source": [
    "import requests\n",
    "from datetime import datetime, timedelta\n",
    "\n",
    "headers = {\n",
    "    'X-Auth-Token': 'c0efea6535bc472fbc39c9f1ca96fa91'\n",
    "}\n",
    "url = 'http://api.football-data.org/v2/teams/86/matches?status=FINISHED'\n",
    "\n",
    "response = requests.get(url, headers=headers)\n",
    "matches = response.json()\n",
    "\n",
    "for match in matches['matches']:\n",
    "    start_time = datetime.strptime(match['utcDate'], '%Y-%m-%dT%H:%M:%SZ')\n",
    "    # Assuming 90 minutes + 15 minutes for half-time break\n",
    "    finish_time = start_time + timedelta(minutes=105)\n",
    "    result = f\"{match['homeTeam']['name']} vs {match['awayTeam']['name']} - {match['score']['fullTime']['homeTeam']}:{match['score']['fullTime']['awayTeam']}\"\n",
    "    winner = match['score']['winner']\n",
    "    if winner == 'HOME_TEAM':\n",
    "        winner = match['homeTeam']['name']\n",
    "    elif winner == 'AWAY_TEAM':\n",
    "        winner = match['awayTeam']['name']\n",
    "    else:\n",
    "        winner = \"Draw\"\n",
    "    \n",
    "    print(f\"Start Time: {start_time.strftime('%Y-%m-%d %H:%M:%S')}, Finish Time: {finish_time.strftime('%Y-%m-%d %H:%M:%S')}, Result: {result}, Winner: {winner}\")\n"
   ]
  },
  {
   "cell_type": "code",
   "execution_count": null,
   "metadata": {},
   "outputs": [],
   "source": [
    "#Get upcoming/past\n",
    "import requests\n",
    "\n",
    "headers = {\n",
    "    'X-Auth-Token': 'c0efea6535bc472fbc39c9f1ca96fa91'\n",
    "}\n",
    "from datetime import datetime, timedelta\n",
    "\n",
    "url = 'http://api.football-data.org/v2/teams/86/matches?status=SCHEDULED'\n",
    "\n",
    "response = requests.get(url, headers=headers)\n",
    "matches = response.json()\n",
    "\n",
    "\n",
    "for match in matches['matches']:\n",
    "    home_team = match['homeTeam']['name']\n",
    "    away_team = match['awayTeam']['name']\n",
    "    home_score = match['score']['fullTime']['homeTeam']\n",
    "    away_score = match['score']['fullTime']['awayTeam']\n",
    "    start_time = datetime.strptime(match['utcDate'], '%Y-%m-%dT%H:%M:%SZ').strftime('%Y-%m-%d %H:%M:%S')\n",
    "    # End time not provided directly by API, example assumes 90 minutes + start time for simplicity\n",
    "    # For accurate end time, additional data on match duration and added time would be necessary\n",
    "    finished_normal_time = 'Yes' if match['status'] == 'FINISHED' else 'No'\n",
    "    result = f\"{home_team} vs {away_team} - {home_score}:{away_score}\"\n",
    "    \n",
    " \n",
    "    print(f\"Start Time: {start_time}, Result: {result}, Finished in Normal Time: {finished_normal_time}\")\n"
   ]
  }
 ],
 "metadata": {
  "language_info": {
   "name": "python"
  }
 },
 "nbformat": 4,
 "nbformat_minor": 2
}
