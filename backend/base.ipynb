{
 "cells": [
  {
   "cell_type": "code",
   "execution_count": 1,
   "metadata": {},
   "outputs": [
    {
     "name": "stdout",
     "output_type": "stream",
     "text": [
      "Start Time: 2023-08-12 19:30:00, Finish Time: 2023-08-12 21:15:00, Result: Athletic Club vs Real Madrid CF - 0:2, Winner: Real Madrid CF\n",
      "Start Time: 2023-08-19 17:30:00, Finish Time: 2023-08-19 19:15:00, Result: UD Almería vs Real Madrid CF - 1:3, Winner: Real Madrid CF\n",
      "Start Time: 2023-08-25 19:30:00, Finish Time: 2023-08-25 21:15:00, Result: RC Celta de Vigo vs Real Madrid CF - 0:1, Winner: Real Madrid CF\n",
      "Start Time: 2023-09-02 14:15:00, Finish Time: 2023-09-02 16:00:00, Result: Real Madrid CF vs Getafe CF - 2:1, Winner: Real Madrid CF\n",
      "Start Time: 2023-09-17 19:00:00, Finish Time: 2023-09-17 20:45:00, Result: Real Madrid CF vs Real Sociedad de Fútbol - 2:1, Winner: Real Madrid CF\n",
      "Start Time: 2023-09-20 16:45:00, Finish Time: 2023-09-20 18:30:00, Result: Real Madrid CF vs 1. FC Union Berlin - 1:0, Winner: Real Madrid CF\n",
      "Start Time: 2023-09-24 19:00:00, Finish Time: 2023-09-24 20:45:00, Result: Club Atlético de Madrid vs Real Madrid CF - 3:1, Winner: Club Atlético de Madrid\n",
      "Start Time: 2023-09-27 17:00:00, Finish Time: 2023-09-27 18:45:00, Result: Real Madrid CF vs UD Las Palmas - 2:0, Winner: Real Madrid CF\n",
      "Start Time: 2023-09-30 16:30:00, Finish Time: 2023-09-30 18:15:00, Result: Girona FC vs Real Madrid CF - 0:3, Winner: Real Madrid CF\n",
      "Start Time: 2023-10-03 19:00:00, Finish Time: 2023-10-03 20:45:00, Result: SSC Napoli vs Real Madrid CF - 2:3, Winner: Real Madrid CF\n",
      "Start Time: 2023-10-07 14:15:00, Finish Time: 2023-10-07 16:00:00, Result: Real Madrid CF vs CA Osasuna - 4:0, Winner: Real Madrid CF\n",
      "Start Time: 2023-10-21 16:30:00, Finish Time: 2023-10-21 18:15:00, Result: Sevilla FC vs Real Madrid CF - 1:1, Winner: Draw\n",
      "Start Time: 2023-10-24 19:00:00, Finish Time: 2023-10-24 20:45:00, Result: Sporting Clube de Braga vs Real Madrid CF - 1:2, Winner: Real Madrid CF\n",
      "Start Time: 2023-10-28 14:15:00, Finish Time: 2023-10-28 16:00:00, Result: FC Barcelona vs Real Madrid CF - 1:2, Winner: Real Madrid CF\n",
      "Start Time: 2023-11-05 20:00:00, Finish Time: 2023-11-05 21:45:00, Result: Real Madrid CF vs Rayo Vallecano de Madrid - 0:0, Winner: Draw\n",
      "Start Time: 2023-11-08 20:00:00, Finish Time: 2023-11-08 21:45:00, Result: Real Madrid CF vs Sporting Clube de Braga - 3:0, Winner: Real Madrid CF\n",
      "Start Time: 2023-11-11 20:00:00, Finish Time: 2023-11-11 21:45:00, Result: Real Madrid CF vs Valencia CF - 5:1, Winner: Real Madrid CF\n",
      "Start Time: 2023-11-26 17:30:00, Finish Time: 2023-11-26 19:15:00, Result: Cádiz CF vs Real Madrid CF - 0:3, Winner: Real Madrid CF\n",
      "Start Time: 2023-11-29 20:00:00, Finish Time: 2023-11-29 21:45:00, Result: Real Madrid CF vs SSC Napoli - 4:2, Winner: Real Madrid CF\n",
      "Start Time: 2023-12-02 17:30:00, Finish Time: 2023-12-02 19:15:00, Result: Real Madrid CF vs Granada CF - 2:0, Winner: Real Madrid CF\n",
      "Start Time: 2023-12-09 15:15:00, Finish Time: 2023-12-09 17:00:00, Result: Real Betis Balompié vs Real Madrid CF - 1:1, Winner: Draw\n",
      "Start Time: 2023-12-12 20:00:00, Finish Time: 2023-12-12 21:45:00, Result: 1. FC Union Berlin vs Real Madrid CF - 2:3, Winner: Real Madrid CF\n",
      "Start Time: 2023-12-17 20:00:00, Finish Time: 2023-12-17 21:45:00, Result: Real Madrid CF vs Villarreal CF - 4:1, Winner: Real Madrid CF\n",
      "Start Time: 2023-12-21 20:30:00, Finish Time: 2023-12-21 22:15:00, Result: Deportivo Alavés vs Real Madrid CF - 0:1, Winner: Real Madrid CF\n",
      "Start Time: 2024-01-03 18:15:00, Finish Time: 2024-01-03 20:00:00, Result: Real Madrid CF vs RCD Mallorca - 1:0, Winner: Real Madrid CF\n",
      "Start Time: 2024-01-21 15:15:00, Finish Time: 2024-01-21 17:00:00, Result: Real Madrid CF vs UD Almería - 3:2, Winner: Real Madrid CF\n",
      "Start Time: 2024-01-27 15:15:00, Finish Time: 2024-01-27 17:00:00, Result: UD Las Palmas vs Real Madrid CF - 1:2, Winner: Real Madrid CF\n",
      "Start Time: 2024-02-01 20:00:00, Finish Time: 2024-02-01 21:45:00, Result: Getafe CF vs Real Madrid CF - 0:2, Winner: Real Madrid CF\n",
      "Start Time: 2024-02-04 20:00:00, Finish Time: 2024-02-04 21:45:00, Result: Real Madrid CF vs Club Atlético de Madrid - 1:1, Winner: Draw\n",
      "Start Time: 2024-02-10 17:30:00, Finish Time: 2024-02-10 19:15:00, Result: Real Madrid CF vs Girona FC - 4:0, Winner: Real Madrid CF\n",
      "Start Time: 2024-02-13 20:00:00, Finish Time: 2024-02-13 21:45:00, Result: RB Leipzig vs Real Madrid CF - 0:1, Winner: Real Madrid CF\n",
      "Start Time: 2024-02-18 13:00:00, Finish Time: 2024-02-18 14:45:00, Result: Rayo Vallecano de Madrid vs Real Madrid CF - 1:1, Winner: Draw\n",
      "Start Time: 2024-02-25 20:00:00, Finish Time: 2024-02-25 21:45:00, Result: Real Madrid CF vs Sevilla FC - 1:0, Winner: Real Madrid CF\n",
      "Start Time: 2024-03-02 20:00:00, Finish Time: 2024-03-02 21:45:00, Result: Valencia CF vs Real Madrid CF - 2:2, Winner: Draw\n",
      "Start Time: 2024-03-06 20:00:00, Finish Time: 2024-03-06 21:45:00, Result: Real Madrid CF vs RB Leipzig - 1:1, Winner: Draw\n",
      "Start Time: 2024-03-10 17:30:00, Finish Time: 2024-03-10 19:15:00, Result: Real Madrid CF vs RC Celta de Vigo - 4:0, Winner: Real Madrid CF\n"
     ]
    }
   ],
   "source": [
    "import requests\n",
    "from datetime import datetime, timedelta\n",
    "\n",
    "headers = {\n",
    "    'X-Auth-Token': 'c0efea6535bc472fbc39c9f1ca96fa91'\n",
    "}\n",
    "url = 'http://api.football-data.org/v2/teams/86/matches?status=FINISHED'\n",
    "\n",
    "response = requests.get(url, headers=headers)\n",
    "matches = response.json()\n",
    "\n",
    "for match in matches['matches']:\n",
    "    start_time = datetime.strptime(match['utcDate'], '%Y-%m-%dT%H:%M:%SZ')\n",
    "    # Assuming 90 minutes + 15 minutes for half-time break\n",
    "    finish_time = start_time + timedelta(minutes=105)\n",
    "    result = f\"{match['homeTeam']['name']} vs {match['awayTeam']['name']} - {match['score']['fullTime']['homeTeam']}:{match['score']['fullTime']['awayTeam']}\"\n",
    "    winner = match['score']['winner']\n",
    "    if winner == 'HOME_TEAM':\n",
    "        winner = match['homeTeam']['name']\n",
    "    elif winner == 'AWAY_TEAM':\n",
    "        winner = match['awayTeam']['name']\n",
    "    else:\n",
    "        winner = \"Draw\"\n",
    "    \n",
    "    print(f\"Start Time: {start_time.strftime('%Y-%m-%d %H:%M:%S')}, Finish Time: {finish_time.strftime('%Y-%m-%d %H:%M:%S')}, Result: {result}, Winner: {winner}\")\n"
   ]
  },
  {
   "cell_type": "code",
   "execution_count": 2,
   "metadata": {},
   "outputs": [
    {
     "name": "stdout",
     "output_type": "stream",
     "text": [
      "Start Time: 2024-03-16 15:15:00, Result: CA Osasuna vs Real Madrid CF - None:None, Finished in Normal Time: No\n",
      "Start Time: 2024-03-31 19:00:00, Result: Real Madrid CF vs Athletic Club - None:None, Finished in Normal Time: No\n",
      "Start Time: 2024-04-09 19:00:00, Result: Real Madrid CF vs Manchester City FC - None:None, Finished in Normal Time: No\n",
      "Start Time: 2024-04-14 00:00:00, Result: RCD Mallorca vs Real Madrid CF - None:None, Finished in Normal Time: No\n",
      "Start Time: 2024-04-17 19:00:00, Result: Manchester City FC vs Real Madrid CF - None:None, Finished in Normal Time: No\n",
      "Start Time: 2024-04-21 00:00:00, Result: Real Madrid CF vs FC Barcelona - None:None, Finished in Normal Time: No\n",
      "Start Time: 2024-04-28 00:00:00, Result: Real Sociedad de Fútbol vs Real Madrid CF - None:None, Finished in Normal Time: No\n",
      "Start Time: 2024-05-05 00:00:00, Result: Real Madrid CF vs Cádiz CF - None:None, Finished in Normal Time: No\n",
      "Start Time: 2024-05-12 00:00:00, Result: Granada CF vs Real Madrid CF - None:None, Finished in Normal Time: No\n",
      "Start Time: 2024-05-15 00:00:00, Result: Real Madrid CF vs Deportivo Alavés - None:None, Finished in Normal Time: No\n",
      "Start Time: 2024-05-19 00:00:00, Result: Villarreal CF vs Real Madrid CF - None:None, Finished in Normal Time: No\n",
      "Start Time: 2024-05-26 00:00:00, Result: Real Madrid CF vs Real Betis Balompié - None:None, Finished in Normal Time: No\n"
     ]
    }
   ],
   "source": [
    "#Get upcoming/past\n",
    "import requests\n",
    "\n",
    "headers = {\n",
    "    'X-Auth-Token': 'c0efea6535bc472fbc39c9f1ca96fa91'\n",
    "}\n",
    "from datetime import datetime, timedelta\n",
    "\n",
    "url = 'http://api.football-data.org/v2/teams/86/matches?status=SCHEDULED'\n",
    "\n",
    "response = requests.get(url, headers=headers)\n",
    "matches = response.json()\n",
    "\n",
    "\n",
    "for match in matches['matches']:\n",
    "    home_team = match['homeTeam']['name']\n",
    "    away_team = match['awayTeam']['name']\n",
    "    home_score = match['score']['fullTime']['homeTeam']\n",
    "    away_score = match['score']['fullTime']['awayTeam']\n",
    "    start_time = datetime.strptime(match['utcDate'], '%Y-%m-%dT%H:%M:%SZ').strftime('%Y-%m-%d %H:%M:%S')\n",
    "    # End time not provided directly by API, example assumes 90 minutes + start time for simplicity\n",
    "    # For accurate end time, additional data on match duration and added time would be necessary\n",
    "    finished_normal_time = 'Yes' if match['status'] == 'FINISHED' else 'No'\n",
    "    result = f\"{home_team} vs {away_team} - {home_score}:{away_score}\"\n",
    "    \n",
    " \n",
    "    print(f\"Start Time: {start_time}, Result: {result}, Finished in Normal Time: {finished_normal_time}\")\n"
   ]
  }
 ],
 "metadata": {
  "kernelspec": {
   "display_name": "Python 3",
   "language": "python",
   "name": "python3"
  },
  "language_info": {
   "codemirror_mode": {
    "name": "ipython",
    "version": 3
   },
   "file_extension": ".py",
   "mimetype": "text/x-python",
   "name": "python",
   "nbconvert_exporter": "python",
   "pygments_lexer": "ipython3",
   "version": "3.12.2"
  }
 },
 "nbformat": 4,
 "nbformat_minor": 2
}
