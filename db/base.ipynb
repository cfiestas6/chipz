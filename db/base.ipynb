{
 "cells": [
  {
   "cell_type": "code",
   "execution_count": 16,
   "metadata": {},
   "outputs": [],
   "source": [
    "import sqlite3\n",
    "\n",
    "\n",
    "conn = sqlite3.connect('players.db')\n",
    "\n",
    "cursor = conn.cursor()\n",
    "\n",
    "create = '''\n",
    "CREATE TABLE IF NOT EXISTS event_results (\n",
    "    ts STRING ,\n",
    "    winner STRING NOT NULL,\n",
    "    end_date DATE,\n",
    "    uuid INTEGER\n",
    ");\n",
    "'''\n",
    "\n",
    "cursor.execute(create)\n",
    "\n",
    "conn.commit()\n",
    "conn.close()\n"
   ]
  },
  {
   "cell_type": "code",
   "execution_count": 15,
   "metadata": {},
   "outputs": [],
   "source": [
    "import sqlite3\n",
    "\n",
    "\n",
    "conn = sqlite3.connect('players.db')\n",
    "\n",
    "cursor = conn.cursor()\n",
    "\n",
    "create = '''\n",
    "DROP TABLE IF EXISTS finished_events;\n",
    "'''\n",
    "\n",
    "cursor.execute(create)\n",
    "\n",
    "conn.commit()\n",
    "conn.close()\n"
   ]
  },
  {
   "cell_type": "code",
   "execution_count": 12,
   "metadata": {},
   "outputs": [],
   "source": [
    "import sqlite3\n",
    "\n",
    "\n",
    "conn = sqlite3.connect('players.db')\n",
    "\n",
    "cursor = conn.cursor()\n",
    "\n",
    "create = '''\n",
    "CREATE TABLE IF NOT EXISTS next_events (\n",
    "    ts DATE ,\n",
    "    team1 STRING NOT NULL,\n",
    "    team2 STRING NOT NULL,\n",
    "    end_date DATE,\n",
    "    uuid INTEGER\n",
    ");\n",
    "'''\n",
    "\n",
    "cursor.execute(create)\n",
    "\n",
    "conn.commit()\n",
    "conn.close()\n"
   ]
  }
 ],
 "metadata": {
  "kernelspec": {
   "display_name": "Python 3",
   "language": "python",
   "name": "python3"
  },
  "language_info": {
   "codemirror_mode": {
    "name": "ipython",
    "version": 3
   },
   "file_extension": ".py",
   "mimetype": "text/x-python",
   "name": "python",
   "nbconvert_exporter": "python",
   "pygments_lexer": "ipython3",
   "version": "3.12.2"
  }
 },
 "nbformat": 4,
 "nbformat_minor": 2
}
