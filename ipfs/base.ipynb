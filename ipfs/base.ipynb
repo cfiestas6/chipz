{
 "cells": [
  {
   "cell_type": "code",
   "execution_count": null,
   "metadata": {},
   "outputs": [],
   "source": [
    "import csv\n",
    "import json\n",
    "import requests\n",
    "\n",
    "def read_csv(file_path):\n",
    "    with open(file_path, mode='r', encoding='utf-8') as csv_file:\n",
    "        csv_reader = csv.DictReader(csv_file)\n",
    "        data = [row for row in csv_reader]\n",
    "    return data\n",
    "\n",
    "def pin_to_ipfs(json_data, pinata_api_key, pinata_secret_api_key):\n",
    "    url = \"https://api.pinata.cloud/pinning/pinJSONToIPFS\"\n",
    "    headers = {\n",
    "        \"pinata_api_key\": pinata_api_key,\n",
    "        \"pinata_secret_api_key\": pinata_secret_api_key,\n",
    "    }\n",
    "    response = requests.post(url, json=json_data, headers=headers)\n",
    "    return response.json()\n",
    "\n",
    "def main(csv_file_path, pinata_api_key, pinata_secret_api_key):\n",
    "    csv_data = read_csv(csv_file_path)\n",
    "    json_data = {\"data\": csv_data}\n",
    "\n",
    "    response = pin_to_ipfs(json_data, pinata_api_key, pinata_secret_api_key)\n",
    "    if response.get(\"IpfsHash\"):\n",
    "        print(f\"Data successfully pinned to IPFS with hash: {response['IpfsHash']}\")\n",
    "    else:\n",
    "        print(\"Failed to pin data to IPFS:\", response)\n",
    "\n",
    "csv_file_path = \"../\"\n",
    "pinata_api_key = \"\"\n",
    "pinata_secret_api_key = \"\"\n",
    "\n",
    "if __name__ == \"__main__\":\n",
    "    main(csv_file_path, pinata_api_key, pinata_secret_api_key)\n"
   ]
  }
 ],
 "metadata": {
  "language_info": {
   "name": "python"
  }
 },
 "nbformat": 4,
 "nbformat_minor": 2
}
